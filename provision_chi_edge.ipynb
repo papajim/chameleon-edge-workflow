{
 "cells": [
  {
   "cell_type": "markdown",
   "id": "379ca2e1-2e3f-424e-8604-169bd615022b",
   "metadata": {},
   "source": [
    "# Provision Scripts\n",
    "\n",
    "## References\n",
    "- Using CLI: https://chameleoncloud.readthedocs.io/en/latest/technical/cli.html#the-openstack-rc-script\n",
    "- Using Container API: https://python-chi.readthedocs.io/en/latest/modules/container.html\n",
    "- Webinar: https://www.youtube.com/watch?v=1MPROv595LM\n",
    "\n",
    "## Authentication\n",
    "Before starting `jupyter-lab`, you need to `source openrc.sh` and enter in your password. This file must be downloaded from the Chameleon GUI. \n",
    "\n",
    "## Notes\n",
    "- pegasus arm build container: `ryantanaka/debian10-arm64-pegasus-build-env`\n",
    "  - architecture listed while building worker package: `aarch64_deb_10`\n",
    "- to build arm container on x86_64 machine with qemu: `docker buildx build --platform linux/arm64 -t <tag> --progress=plain --push .`\n",
    "- to run arm container on x86_64 machine with qemu: `docker container run -t -d -v /usr/bin/qemu-aarch64-static:/usr/bin/qemu-aarch64-static --name test-arm-pegasus --rm ryantanaka/condor8-arm64-worker`\n",
    "- setting up qemu\n",
    "  - https://medium.com/@artur.klauser/building-multi-architecture-docker-images-with-buildx-27d80f7e2408\n",
    "  - https://github.com/multiarch/qemu-user-static/issues/100\n",
    "- htcondor8 arm worker container: `ryantanaka/condor8-arm64-worker`\n",
    "  - 411 MB image (only contains necessary dependencies to run condor8)\n",
    "  - uses password authentication\n",
    "- htcondor9 arm worker container: `ryantanaka/condor9-arm64-isi-worker`\n",
    "  - 5.69 GB image (entire frozen build environment for htcondor) \n",
    "  - uses token authentication to connect to central manager on workflow\n",
    "  - must be run with the following environment variables set through docker run\n",
    "      - `TOKEN`\n",
    "      - `CONDOR_HOST`\n",
    "- debian10 aarch64 worker packages located at:\n",
    "    - https://download.pegasus.isi.edu/arm-worker-packages/\n",
    "\n",
    "## Code"
   ]
  },
  {
   "cell_type": "code",
   "execution_count": null,
   "id": "8633ee15-485f-4787-9bcc-294a59af70ca",
   "metadata": {},
   "outputs": [],
   "source": [
    "import logging\n",
    "import pprint\n",
    "from pathlib import Path\n",
    "from typing import List\n",
    "\n",
    "import chi\n",
    "from chi import container\n",
    "from chi import lease\n",
    "\n",
    "logging.basicConfig(level=logging.INFO)\n",
    "pp = pprint.PrettyPrinter(indent=2)"
   ]
  },
  {
   "cell_type": "code",
   "execution_count": null,
   "id": "df4df5a3-9fd8-453a-9f96-378642d7c9a7",
   "metadata": {},
   "outputs": [],
   "source": [
    "# initial setup\n",
    "chi.use_site(\"CHI@Edge\")\n",
    "chi.set(\"project_name\", \"CHI-210827\")\n",
    "chi.set(\"project_domain_name\", \"chameleon\")"
   ]
  },
  {
   "cell_type": "code",
   "execution_count": null,
   "id": "5d77474a-f2b8-43dd-9bcb-d60941e3804c",
   "metadata": {},
   "outputs": [],
   "source": [
    "# util to reconfigure condor daemons once central manager ip is known\n",
    "def configure_condor(container_id: str, configs: List[str]) -> None:\n",
    "    print(\"the following configs will be sent to container: {} /etc/condor/config.d/60-condor.conf\".format(container_id))\n",
    "    print(*configs, sep=\"\\n\")\n",
    "    \n",
    "    # create a new config file and upload\n",
    "    conf_dir = Path(\"tmp\")\n",
    "    conf_dir.mkdir()\n",
    "    conf_file = conf_dir / \"60-condor.conf\"\n",
    "    \n",
    "    with conf_file.open(\"w\") as f:\n",
    "        for config in configs:\n",
    "            f.write(config + \"\\n\")\n",
    "    \n",
    "    resp = container.upload(container_id, str(conf_dir), \"/etc/condor/config.d\")\n",
    "    print(resp)\n",
    "    assert resp[0].status_code == 200\n",
    "    \n",
    "    print(\"config upload successful..\")\n",
    "    \n",
    "    # invoke condor_reconfig\n",
    "    resp = container.execute(container_id, \"condor_reconfig\")\n",
    "    print(resp[\"output\"])\n",
    "    assert resp[\"exit_code\"] == 0\n",
    "    \n",
    "    print(\"condor_reconfig cmd successful..\")\n",
    "    "
   ]
  },
  {
   "cell_type": "markdown",
   "id": "11b5b196-ba84-4f35-952d-cb3faa7a8511",
   "metadata": {},
   "source": [
    "### Setup Condor8 Central Manager"
   ]
  },
  {
   "cell_type": "code",
   "execution_count": null,
   "id": "cb9fe57b-5046-4d14-9180-c999bd29cca9",
   "metadata": {},
   "outputs": [],
   "source": [
    "# create a lease for a central manager\n",
    "start, end = lease.lease_duration(days=1)\n",
    "reservations = []\n",
    "lease.add_device_reservation(reservations, count=1, device_model=\"4\")\n",
    "container_lease = lease.create_lease(\"condor-central-manager\", reservations)\n",
    "cm_lease_id = container_lease[\"id\"]\n",
    "\n",
    "print(\"Waiting for lease to start ...\")\n",
    "lease.wait_for_active(cm_lease_id)\n",
    "print(\"condor-central-manager lease_id: {}\".format(cm_lease_id))\n",
    "print(\"Done!\")"
   ]
  },
  {
   "cell_type": "code",
   "execution_count": null,
   "id": "64f0eea3-fc63-44d9-8af0-aa697a6b4d39",
   "metadata": {},
   "outputs": [],
   "source": [
    "# start condor central manager container\n",
    "cm_cont = container.create_container(\n",
    "                name=\"central-manager\",\n",
    "                image=\"ryantanaka/condor8-arm64-central-manager\",\n",
    "                exposed_ports=[\"9618\"],\n",
    "                reservation_id=lease.get_device_reservation(cm_lease_id)\n",
    "            )\n",
    "\n",
    "print(\"waiting for central-manager container to start\")\n",
    "container.wait_for_active(cm_cont.uuid, timeout=600)\n",
    "print(\"central-manager container_id: {}\".format(cm_cont.uuid))\n",
    "print(\"done!\")"
   ]
  },
  {
   "cell_type": "code",
   "execution_count": null,
   "id": "523cc84d-41ea-4ab4-a619-aaaf1f685ef6",
   "metadata": {},
   "outputs": [],
   "source": [
    "central_manager_public_ip = container.associate_floating_ip(cm_cont.uuid)\n",
    "print(central_manager_public_ip)"
   ]
  },
  {
   "cell_type": "code",
   "execution_count": null,
   "id": "e7238a21-b714-4f97-8b4a-57174c2cd7b1",
   "metadata": {},
   "outputs": [],
   "source": [
    "# reconfigure central manager with host ip\n",
    "CONDOR_HOST_CONFIG = \"CONDOR_HOST = {}\".format(central_manager_public_ip)\n",
    "configure_condor(cm_cont.uuid, [CONDOR_HOST_CONFIG])"
   ]
  },
  {
   "cell_type": "code",
   "execution_count": null,
   "id": "aaea33ab-542c-47ac-b95d-61df250f23fc",
   "metadata": {},
   "outputs": [],
   "source": [
    "# check to see if configs were updated\n",
    "resp = container.execute(cm_cont.uuid, \"condor_config_val -dump CONDOR_HOST\")\n",
    "print(resp[\"output\"])"
   ]
  },
  {
   "cell_type": "code",
   "execution_count": null,
   "id": "dfc5f950-83aa-4eba-ab23-9db098e1feb7",
   "metadata": {},
   "outputs": [],
   "source": [
    "# this will fail due to timeout, simpler commands like `condor_status -help` will work however\n",
    "resp = container.execute(cm_cont.uuid, \"condor_status\")\n",
    "print(resp[\"output\"])"
   ]
  },
  {
   "cell_type": "markdown",
   "id": "242b756e-e88a-4599-93a5-d2d76218014a",
   "metadata": {},
   "source": [
    "### Setup Condor8 Worker"
   ]
  },
  {
   "cell_type": "code",
   "execution_count": null,
   "id": "20b82a59-7900-4a09-81e6-de837a15fb6b",
   "metadata": {},
   "outputs": [],
   "source": [
    "# create a lease for a worker\n",
    "start, end = lease.lease_duration(days=1)\n",
    "reservations = []\n",
    "lease.add_device_reservation(reservations, count=1, device_model=\"4\")\n",
    "container_lease = lease.create_lease(\"condor-worker\", reservations)\n",
    "worker_lease_id = container_lease[\"id\"]\n",
    "\n",
    "print(\"Waiting for lease to start ...\")\n",
    "lease.wait_for_active(worker_lease_id)\n",
    "print(\"condor-worker lease_id: {}\".format(worker_lease_id))\n",
    "print(\"Done!\")"
   ]
  },
  {
   "cell_type": "code",
   "execution_count": null,
   "id": "e5e68f23-133c-46c2-8999-654c20913f94",
   "metadata": {},
   "outputs": [],
   "source": [
    "# start condor worker\n",
    "worker_cont = container.create_container(\n",
    "                    name=\"worker\",\n",
    "                    image=\"ryantanaka/condor8-arm64-worker\",\n",
    "                    reservation_id=worker_lease_id\n",
    "                )\n",
    "\n",
    "\n",
    "print(\"waiting for worker container to start\")\n",
    "container.wait_for_active(worker_cont.uuid, timeout=600)\n",
    "print(\"worker container_id: {}\".format(worker_cont.uuid))\n",
    "print(\"done!\")\n",
    "\n",
    "# TODO: need to handle error when container can't properly start\n",
    "# TODO: need to handle error when worker can't connect to cm (add in timeout..)"
   ]
  },
  {
   "cell_type": "code",
   "execution_count": null,
   "id": "829c69c8-c0d3-4a9f-9511-34a0123f547e",
   "metadata": {},
   "outputs": [],
   "source": [
    "# reconfigure worker with central manager ip\n",
    "CONDOR_HOST_CONFIG = \"CONDOR_HOST = {}\".format(central_manager_public_ip)\n",
    "configure_condor(worker_cont.uuid, [CONDOR_HOST_CONFIG])"
   ]
  },
  {
   "cell_type": "markdown",
   "id": "920141d3-45ae-4834-80e0-2112a8e6bf5c",
   "metadata": {},
   "source": [
    "### Setup Condor9 Worker (connects to central manager on workflow)"
   ]
  },
  {
   "cell_type": "code",
   "execution_count": null,
   "id": "c4a715fd-1057-40a6-8a8b-4218c5c427ab",
   "metadata": {},
   "outputs": [],
   "source": [
    "# load file containing token\n",
    "TOP_DIR = Path(\".\").resolve()\n",
    "with (TOP_DIR / \"condor9-arm64-isi-worker/cm-token\").open(\"r\") as f:\n",
    "    token = f.read().strip()"
   ]
  },
  {
   "cell_type": "code",
   "execution_count": null,
   "id": "85e8d160-aa78-40fc-b3b5-08b3a0798a63",
   "metadata": {},
   "outputs": [],
   "source": [
    "# create a lease for a worker\n",
    "start, end = lease.lease_duration(days=1)\n",
    "reservations = []\n",
    "lease.add_device_reservation(reservations, count=1, device_model=\"4\")\n",
    "container_lease = lease.create_lease(\"condor9-worker\", reservations)\n",
    "worker_lease_id = container_lease[\"id\"]\n",
    "worker_reservation_id = lease.get_device_reservation(worker_lease_id)\n",
    "\n",
    "print(\"Waiting for lease to start ...\")\n",
    "lease.wait_for_active(worker_lease_id)\n",
    "print(\"condor-worker lease_id: {}\".format(worker_lease_id))\n",
    "print(\"Done!\")"
   ]
  },
  {
   "cell_type": "code",
   "execution_count": null,
   "id": "ccbbadd1-9a76-49e1-a80c-ef859920f199",
   "metadata": {},
   "outputs": [],
   "source": [
    "# start condor worker\n",
    "worker_cont = container.create_container(\n",
    "                    name=\"condor9-isi-worker\",\n",
    "                    image=\"ryantanaka/condor9-arm64-isi-worker\",\n",
    "                    reservation_id=worker_reservation_id,\n",
    "                    environment={\n",
    "                        \"TOKEN\": token,\n",
    "                        \"CONDOR_HOST\": \"workflow.isi.edu\"\n",
    "                    }\n",
    "                )\n",
    "\n",
    "\n",
    "print(\"waiting for worker container to start\")\n",
    "container.wait_for_active(worker_cont.uuid, timeout=600)\n",
    "print(\"worker container_id: {}\".format(worker_cont.uuid))\n",
    "print(\"done!\")\n",
    "\n",
    "# TODO: need to handle error when container can't properly start\n",
    "# TODO: need to handle error when worker can't connect to cm (add in timeout..)"
   ]
  },
  {
   "cell_type": "markdown",
   "id": "14800553-eef2-4a87-8143-aed7ea790708",
   "metadata": {},
   "source": [
    "### Check for Available Slot"
   ]
  },
  {
   "cell_type": "code",
   "execution_count": null,
   "id": "b3266aa9-3e95-4232-b433-33c8cf004371",
   "metadata": {},
   "outputs": [],
   "source": [
    "# requires htcondor to be installed\n",
    "import htcondor\n",
    "import classad\n",
    "\n",
    "def is_slot_available(hostname: str) -> bool:\n",
    "    \"\"\"Check whether or not the given hostname has an available slot.\"\"\"\n",
    "\n",
    "    col = htcondor.Collector(\"workflow.isi.edu:9618\")\n",
    "    slots = col.query(\n",
    "                htcondor.AdTypes.Startd,\n",
    "                projection=[\"Name\", \"Activity\", \"State\"]\n",
    "            )\n",
    "\n",
    "    for s in slots:\n",
    "        activity = s[\"Activity\"]\n",
    "        state = s[\"State\"]\n",
    "        name = s[\"Name\"]\n",
    "\n",
    "        if name.endswith(\"@{}\".format(hostname)) and state == \"Unclaimed\" and activity == \"Idle\":\n",
    "            print(name)\n",
    "            return True\n",
    "\n",
    "    return False"
   ]
  }
 ],
 "metadata": {
  "kernelspec": {
   "display_name": "Python 3 (ipykernel)",
   "language": "python",
   "name": "python3"
  },
  "language_info": {
   "codemirror_mode": {
    "name": "ipython",
    "version": 3
   },
   "file_extension": ".py",
   "mimetype": "text/x-python",
   "name": "python",
   "nbconvert_exporter": "python",
   "pygments_lexer": "ipython3",
   "version": "3.8.6"
  }
 },
 "nbformat": 4,
 "nbformat_minor": 5
}
